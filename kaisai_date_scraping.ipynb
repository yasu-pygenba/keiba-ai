{
 "cells": [
  {
   "cell_type": "markdown",
   "id": "4761e631",
   "metadata": {},
   "source": [
    "### 過去データをスクレイピング ###"
   ]
  },
  {
   "cell_type": "markdown",
   "id": "63df001a",
   "metadata": {},
   "source": [
    "#### 1-1 開催日データをスクレイピング ####"
   ]
  },
  {
   "cell_type": "code",
   "execution_count": null,
   "id": "fe256ebc",
   "metadata": {},
   "outputs": [
    {
     "name": "stdout",
     "output_type": "stream",
     "text": [
      "['20240106', '20240107', '20240108', '20240113', '20240114', '20240120', '20240121', '20240127', '20240128', '20240203']\n"
     ]
    }
   ],
   "source": [
    "\"\"\"2024年の開催日データを取得\"\"\"\n",
    "\n",
    "# 必要なライブラリをインポート\n",
    "import pandas as pd\n",
    "import requests\n",
    "from bs4 import BeautifulSoup\n",
    "import time\n",
    "import re\n",
    "\n",
    "# 年と月をループで回す\n",
    "year = 2024 # 2024年\n",
    "dates = [] # 開催日のリストを定義\n",
    "\n",
    "for month in range(1, 13):  # 1月〜12月\n",
    "    time.sleep(2) # サーバー負荷軽減\n",
    "    url = f'https://race.netkeiba.com/top/calendar.html?year={year}&month={month}'\n",
    "    res = requests.get(url)\n",
    "    soup = BeautifulSoup(res.content, \"html.parser\")\n",
    "\n",
    "    # aタグのhref属性からkaisai_dateの値を抽出\n",
    "    a_all = soup.find_all(\"a\", href=True) #aタグを全て抜き出してfor文で１つずつ抜き出す\n",
    "    for a in a_all:\n",
    "        match = re.search(r\"kaisai_date=(\\d{8})\", a[\"href\"]) #正規表現で抜き出し\n",
    "        if match:\n",
    "            dates.append(match.group(1)) #数字の部分だけを抜き出す\n",
    "\n",
    "print(dates[:10])"
   ]
  }
 ],
 "metadata": {
  "kernelspec": {
   "display_name": "venv",
   "language": "python",
   "name": "python3"
  },
  "language_info": {
   "codemirror_mode": {
    "name": "ipython",
    "version": 3
   },
   "file_extension": ".py",
   "mimetype": "text/x-python",
   "name": "python",
   "nbconvert_exporter": "python",
   "pygments_lexer": "ipython3",
   "version": "3.10.6"
  }
 },
 "nbformat": 4,
 "nbformat_minor": 5
}
