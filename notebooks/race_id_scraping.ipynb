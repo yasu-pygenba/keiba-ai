{
 "cells": [
  {
   "cell_type": "markdown",
   "id": "4761e631",
   "metadata": {},
   "source": [
    "### レース結果データをスクレイピング ###"
   ]
  },
  {
   "cell_type": "markdown",
   "id": "63df001a",
   "metadata": {},
   "source": [
    "#### 1-1 開催日データをスクレイピング ####"
   ]
  },
  {
   "cell_type": "code",
   "execution_count": 1,
   "id": "fe256ebc",
   "metadata": {},
   "outputs": [
    {
     "name": "stdout",
     "output_type": "stream",
     "text": [
      "['20240106', '20240107', '20240108', '20240113', '20240114', '20240120', '20240121', '20240127', '20240128', '20240203']\n"
     ]
    }
   ],
   "source": [
    "\"\"\"2024年の開催日データを取得\"\"\"\n",
    "\n",
    "# ライブラリをインポート\n",
    "import pandas as pd\n",
    "import requests\n",
    "from bs4 import BeautifulSoup\n",
    "import time\n",
    "import re\n",
    "\n",
    "# 年と月をループで回す\n",
    "year = 2024 # 2024年\n",
    "dates = [] # 開催日のリストを定義\n",
    "\n",
    "for month in range(1, 13):  # 1月〜12月\n",
    "    time.sleep(2) # サーバー負荷軽減\n",
    "    url = f'https://race.netkeiba.com/top/calendar.html?year={year}&month={month}'\n",
    "    res = requests.get(url)\n",
    "    soup = BeautifulSoup(res.content, \"html.parser\")\n",
    "\n",
    "    # aタグのhref属性からkaisai_dateの値を抽出\n",
    "    a_all = soup.find_all(\"a\", href=True) #aタグを全て抜き出してfor文で１つずつ抜き出す\n",
    "    for a in a_all:\n",
    "        match = re.search(r\"kaisai_date=(\\d{8})\", a[\"href\"]) #正規表現で抜き出し\n",
    "        if match:\n",
    "            dates.append(match.group(1)) #数字の部分だけを抜き出す\n",
    "\n",
    "print(dates[:10])"
   ]
  },
  {
   "cell_type": "markdown",
   "id": "18b451ab",
   "metadata": {},
   "source": [
    "#### 1-2 レースIDをスクレイピング ####"
   ]
  },
  {
   "cell_type": "code",
   "execution_count": 5,
   "id": "d304e386",
   "metadata": {},
   "outputs": [
    {
     "name": "stderr",
     "output_type": "stream",
     "text": [
      "100%|██████████| 106/106 [06:02<00:00,  3.42s/it]\n"
     ]
    },
    {
     "name": "stdout",
     "output_type": "stream",
     "text": [
      "['202406010101', '202406010101', '202406010102', '202406010102', '202406010103', '202406010103', '202406010104', '202406010104', '202406010105', '202406010105']\n"
     ]
    }
   ],
   "source": [
    "\"\"\" レースIDを取得 \"\"\"\n",
    "\n",
    "# 必要なライブラリをインポート\n",
    "from selenium import webdriver\n",
    "from selenium.webdriver.chrome.service import Service\n",
    "from selenium.webdriver.chrome.options import Options\n",
    "from webdriver_manager.chrome import ChromeDriverManager\n",
    "from tqdm import tqdm\n",
    "from bs4 import BeautifulSoup\n",
    "import time\n",
    "import re\n",
    "\n",
    "# Chromeの設定\n",
    "chrome_options = Options()\n",
    "chrome_options.add_argument('--headless') #画面を表示させない\n",
    "\n",
    "# ドライバ初期化\n",
    "driver = webdriver.Chrome(service=Service(ChromeDriverManager().install()),\n",
    "                      options=chrome_options)\n",
    "\n",
    "race_ids = [] # race_idを入れるリスト\n",
    "for date in tqdm(dates): # 開催日のリストを１つずつ取り出してurlに接続\n",
    "  time.sleep(2)\n",
    "  url = f'https://race.netkeiba.com/top/race_list.html?kaisai_date={date}'\n",
    "  driver.get(url)\n",
    "\n",
    "  # ページのHTMLを取得\n",
    "  html = driver.page_source\n",
    "  soup = BeautifulSoup(html, \"html.parser\")\n",
    "\n",
    "  # aタグのhref属性からrace_idを抜き出す\n",
    "  a_all = soup.find_all(\"a\", href=True)\n",
    "  for a in a_all:\n",
    "    match = re.search(r\"race_id=(\\d{12})\", a[\"href\"])\n",
    "    if match:\n",
    "      race_ids.append(match.group(1))\n",
    "\n",
    "driver.quit()\n",
    "\n",
    "# テキストファイルに保存\n",
    "with open('race_ids.txt', 'w') as file:\n",
    "    for race_id in race_ids:\n",
    "        file.write(f\"{race_id}\\n\")\n",
    "\n",
    "# 最初の10個のデータを出力\n",
    "print(race_ids[:10])"
   ]
  }
 ],
 "metadata": {
  "kernelspec": {
   "display_name": "venv",
   "language": "python",
   "name": "python3"
  },
  "language_info": {
   "codemirror_mode": {
    "name": "ipython",
    "version": 3
   },
   "file_extension": ".py",
   "mimetype": "text/x-python",
   "name": "python",
   "nbconvert_exporter": "python",
   "pygments_lexer": "ipython3",
   "version": "3.10.6"
  }
 },
 "nbformat": 4,
 "nbformat_minor": 5
}
